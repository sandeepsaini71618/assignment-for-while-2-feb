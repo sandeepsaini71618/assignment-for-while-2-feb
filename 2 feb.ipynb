{
 "cells": [
  {
   "cell_type": "markdown",
   "id": "3bca5763-d082-4683-9002-b08bec8334b7",
   "metadata": {},
   "source": [
    "# ans 1 - A for loop is used when you want to iterate over a sequence (such as a list, tuple, or string) and execute a block of code for each item in the sequence."
   ]
  },
  {
   "cell_type": "code",
   "execution_count": 1,
   "id": "3ba0a1b6-71e2-4208-8fc2-d03e5dc25812",
   "metadata": {},
   "outputs": [
    {
     "name": "stdout",
     "output_type": "stream",
     "text": [
      "sandeep\n",
      "1\n",
      "2\n",
      "5\n",
      "3\n",
      "{8, 9, 5, 6}\n",
      "('ram', 'shyam')\n"
     ]
    }
   ],
   "source": [
    "f=[\"sandeep\",1,2,5,3,{5,6,8,9},(\"ram\",\"shyam\")]\n",
    "for i in f:\n",
    "    print(i)"
   ]
  },
  {
   "cell_type": "markdown",
   "id": "80cd3a5b-2687-48ba-989c-fba38ca89836",
   "metadata": {},
   "source": [
    "# while loop is used when you want to keep execute a block until the condition is true"
   ]
  },
  {
   "cell_type": "code",
   "execution_count": 2,
   "id": "71cfd592-6d00-400b-93d5-88183b239fbb",
   "metadata": {},
   "outputs": [
    {
     "name": "stdout",
     "output_type": "stream",
     "text": [
      "ram\n",
      "ram\n",
      "ram\n",
      "ram\n",
      "ram\n",
      "ram\n",
      "ram\n",
      "ram\n",
      "ram\n",
      "ram\n"
     ]
    }
   ],
   "source": [
    "i=0\n",
    "while i<10:\n",
    "    print( \"ram\")\n",
    "    i+=1"
   ]
  },
  {
   "cell_type": "markdown",
   "id": "faa320ed-ff95-4a8d-8237-ac142b2b7bf3",
   "metadata": {},
   "source": [
    "# Ans -2"
   ]
  },
  {
   "cell_type": "code",
   "execution_count": 3,
   "id": "2612290f-89f7-43c4-a8d2-8ef1ac4f6788",
   "metadata": {},
   "outputs": [
    {
     "name": "stdout",
     "output_type": "stream",
     "text": [
      "55\n"
     ]
    }
   ],
   "source": [
    "# using for loop\n",
    "#sum of 10 natural no \n",
    "sum=0\n",
    "for i in range(11):\n",
    "      sum+=i\n",
    "print(sum)"
   ]
  },
  {
   "cell_type": "code",
   "execution_count": 4,
   "id": "01000665-b3ff-4951-9349-0216b6b78a44",
   "metadata": {},
   "outputs": [
    {
     "name": "stdout",
     "output_type": "stream",
     "text": [
      "3628800\n"
     ]
    }
   ],
   "source": [
    "# using for loop\n",
    "# product of 10 natural no\n",
    "product=1\n",
    "for i in range(1,11):\n",
    "    product*=i\n",
    "print(product)"
   ]
  },
  {
   "cell_type": "code",
   "execution_count": 5,
   "id": "01f0a772-2467-46c8-bd32-b2707f305bff",
   "metadata": {},
   "outputs": [
    {
     "name": "stdout",
     "output_type": "stream",
     "text": [
      "55\n"
     ]
    }
   ],
   "source": [
    "# using while loop\n",
    "# sum of 10 natural no\n",
    "i=0\n",
    "sum=0\n",
    "while i<11:\n",
    "    sum+=i\n",
    "    i+=1\n",
    "print(sum)"
   ]
  },
  {
   "cell_type": "code",
   "execution_count": 6,
   "id": "b68eedd0-46d7-4b91-91ba-4080dc81bf23",
   "metadata": {},
   "outputs": [
    {
     "name": "stdout",
     "output_type": "stream",
     "text": [
      "3628800\n"
     ]
    }
   ],
   "source": [
    "# using for loop\n",
    "# sum of 10 natural no\n",
    "i=1\n",
    "product=1\n",
    "while i <11:\n",
    "    product*=i\n",
    "    i+=1\n",
    "print(product)\n",
    "    "
   ]
  },
  {
   "cell_type": "code",
   "execution_count": 7,
   "id": "3387ed05-018a-4f75-a4a8-ff8edce87378",
   "metadata": {},
   "outputs": [],
   "source": [
    "# Ans-3"
   ]
  },
  {
   "cell_type": "code",
   "execution_count": 16,
   "id": "5ff9de03-c9da-44f7-ab5f-912e0cfcff32",
   "metadata": {},
   "outputs": [
    {
     "name": "stdin",
     "output_type": "stream",
     "text": [
      "Enter the number of units consumed:  310\n"
     ]
    },
    {
     "name": "stdout",
     "output_type": "stream",
     "text": [
      "Your electricity bill is Rs. 2250.0\n"
     ]
    }
   ],
   "source": [
    "units = int(input(\"Enter the number of units consumed: \"))\n",
    "bill = 0\n",
    "\n",
    "# Compute the bill based on the number of units consumed\n",
    "if units <= 100:\n",
    "    bill = units * 4.5\n",
    "elif units <= 200:\n",
    "    bill = 100 * 4.5 + (units - 100) * 6\n",
    "elif units <=300:\n",
    "    bill = 100 * 4.5 + 100 * 6 + (units - 200) * 10\n",
    "else:\n",
    "    bill=100*4.5+100*6+100*10+(units-300)*20\n",
    "# Print the final bill\n",
    "print(\"Your electricity bill is Rs.\", bill)"
   ]
  },
  {
   "cell_type": "code",
   "execution_count": 9,
   "id": "7438d0ab-58c6-4704-924f-064c7d7293f7",
   "metadata": {},
   "outputs": [],
   "source": [
    "# Ans 4"
   ]
  },
  {
   "cell_type": "code",
   "execution_count": 10,
   "id": "d1b20c7c-99da-4f2f-8bb8-4ccbef4c4552",
   "metadata": {},
   "outputs": [],
   "source": [
    "# From for  loop"
   ]
  },
  {
   "cell_type": "code",
   "execution_count": 21,
   "id": "0ed0271b-e4a7-4171-bf8e-cc7980ce8d8a",
   "metadata": {},
   "outputs": [
    {
     "name": "stdout",
     "output_type": "stream",
     "text": [
      "[1000, 8000, 27000, 64000, 125000, 216000, 343000, 512000, 729000, 1000000]\n"
     ]
    }
   ],
   "source": [
    "list=[]\n",
    "for i in range(1,101):\n",
    "    cube=i**3\n",
    "    # print(cube)\n",
    "    if cube%4==0 and cube%5==0:\n",
    "        list.append(cube)\n",
    "print(list)\n",
    "#     if (cube/4) and (cube/5):\n",
    "#     list.append(cube)\n",
    "# print(list)"
   ]
  },
  {
   "cell_type": "code",
   "execution_count": 22,
   "id": "6a79e9fd-9d11-4fbe-95dd-d5e35431eecb",
   "metadata": {},
   "outputs": [],
   "source": [
    "# from while loop"
   ]
  },
  {
   "cell_type": "code",
   "execution_count": 23,
   "id": "3c180c01-b638-49d0-93d8-20f26203a0e6",
   "metadata": {},
   "outputs": [
    {
     "name": "stdout",
     "output_type": "stream",
     "text": [
      "[1000, 8000, 27000, 64000, 125000, 216000, 343000, 512000, 729000, 1000000]\n"
     ]
    }
   ],
   "source": [
    "i=1\n",
    "list=[]\n",
    "while i<=100:\n",
    "    cube=i**3\n",
    "    # print(cube)\n",
    "    if cube%4==0 and cube%5==0:\n",
    "        list.append(cube)\n",
    "    i+=1\n",
    "print(list)"
   ]
  },
  {
   "cell_type": "code",
   "execution_count": 24,
   "id": "58133bb8-a89e-4880-b83b-4ff5b987e6cb",
   "metadata": {},
   "outputs": [],
   "source": [
    "# Ans 5 count and filter vowel in sentence \"I want to become a data scientist\""
   ]
  },
  {
   "cell_type": "code",
   "execution_count": 34,
   "id": "088e53c6-2d73-41ab-b388-827b602a4d86",
   "metadata": {},
   "outputs": [
    {
     "name": "stdout",
     "output_type": "stream",
     "text": [
      "12\n"
     ]
    }
   ],
   "source": [
    "sentence=\"I want to become a data scientist\"\n",
    "vowel=\"aeiouAEIOU\"\n",
    "count=0\n",
    "for i in sentence:\n",
    "    if i in vowel:\n",
    "        count+=1\n",
    "print(count)\n",
    "\n"
   ]
  },
  {
   "cell_type": "code",
   "execution_count": null,
   "id": "93a3aa80-60de-4706-95bd-f751ac02d690",
   "metadata": {},
   "outputs": [],
   "source": []
  }
 ],
 "metadata": {
  "kernelspec": {
   "display_name": "Python 3 (ipykernel)",
   "language": "python",
   "name": "python3"
  },
  "language_info": {
   "codemirror_mode": {
    "name": "ipython",
    "version": 3
   },
   "file_extension": ".py",
   "mimetype": "text/x-python",
   "name": "python",
   "nbconvert_exporter": "python",
   "pygments_lexer": "ipython3",
   "version": "3.10.8"
  }
 },
 "nbformat": 4,
 "nbformat_minor": 5
}
